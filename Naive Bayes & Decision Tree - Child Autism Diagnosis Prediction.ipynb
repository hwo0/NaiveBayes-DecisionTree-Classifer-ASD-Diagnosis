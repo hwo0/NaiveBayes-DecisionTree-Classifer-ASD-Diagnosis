{
 "cells": [
  {
   "cell_type": "markdown",
   "source": [
    "#### Dataset - Autism-Child-Data.arff"
   ],
   "metadata": {
    "collapsed": false
   }
  },
  {
   "cell_type": "code",
   "execution_count": null,
   "outputs": [],
   "source": [
    "# Initial Dataset Examination\n",
    "#import packages\n",
    "from sklearn import preprocessing\n",
    "from sklearn.metrics import classification_report, confusion_matrix\n",
    "from scipy.io import arff\n",
    "from sklearn.naive_bayes import GaussianNB\n",
    "from sklearn.preprocessing import LabelEncoder\n",
    "from sklearn.feature_selection import SelectKBest,chi2\n",
    "from sklearn.tree import DecisionTreeClassifier"
   ],
   "metadata": {
    "collapsed": false,
    "pycharm": {
     "name": "#%%\n"
    }
   }
  },
  {
   "cell_type": "code",
   "execution_count": null,
   "outputs": [],
   "source": [
    "#Import arff file\n",
    "data = arff.loadarff(r\"C:\\Users\\Helen\\Desktop\\MoA\\COMP809\\Autism-Child-Data.arff\")\n",
    "\n",
    "#Convert to DataFrame\n",
    "autism_df= pd.DataFrame(data[0])\n",
    "autism_df.head()"
   ],
   "metadata": {
    "collapsed": false,
    "pycharm": {
     "name": "#%%\n"
    }
   }
  },
  {
   "cell_type": "code",
   "execution_count": null,
   "outputs": [],
   "source": [
    "#Change character encodings (to get rid of b(s))\n",
    "def apply_decode(df_name):\n",
    "    for col in df_name.columns:\n",
    "        if df_name[col].dtype != 'float64':\n",
    "            df_name[col] = df_name[col].apply(lambda val : val.decode('utf-8'))\n",
    "    pd.set_option('display.max_columns',50)\n",
    "    return df_name\n",
    "\n",
    "autism = apply_decode(autism_df)"
   ],
   "metadata": {
    "collapsed": false,
    "pycharm": {
     "name": "#%%\n"
    }
   }
  },
  {
   "cell_type": "code",
   "execution_count": null,
   "outputs": [],
   "source": [
    "autism.head()"
   ],
   "metadata": {
    "collapsed": false,
    "pycharm": {
     "name": "#%%\n"
    }
   }
  },
  {
   "cell_type": "code",
   "execution_count": null,
   "outputs": [],
   "source": [
    "autism.info()"
   ],
   "metadata": {
    "collapsed": false,
    "pycharm": {
     "name": "#%%\n"
    }
   }
  },
  {
   "cell_type": "code",
   "execution_count": null,
   "outputs": [],
   "source": [
    "autism.shape"
   ],
   "metadata": {
    "collapsed": false,
    "pycharm": {
     "name": "#%%\n"
    }
   }
  },
  {
   "cell_type": "code",
   "execution_count": null,
   "outputs": [],
   "source": [
    "autism.columns"
   ],
   "metadata": {
    "collapsed": false,
    "pycharm": {
     "name": "#%%\n"
    }
   }
  },
  {
   "cell_type": "code",
   "execution_count": null,
   "outputs": [],
   "source": [
    "# Fix column name typos #\n",
    "#'autism' column name is a typo, change it to 'autism'\n",
    "autism = autism.rename(columns = {'austim':'autism'})\n",
    "\n",
    "#'jundice' column name is a typo, change it to 'jaundice'\n",
    "autism = autism.rename(columns = {'jundice':'jaundice'})\n",
    "\n",
    "#'contry_of_res' column name is a typo, change it to 'country_of_res'\n",
    "autism = autism.rename(columns = {'contry_of_res':'country_of_res'})"
   ],
   "metadata": {
    "collapsed": false,
    "pycharm": {
     "name": "#%%\n"
    }
   }
  },
  {
   "cell_type": "code",
   "execution_count": null,
   "outputs": [],
   "source": [
    "# Drop Columns #\n",
    "#Drop 'relation' column - as it's not relevant for prediction\n",
    "autism.drop('relation',axis=1, inplace=True)\n",
    "\n",
    "#Drop 'used_app_before' column - as it's not relevant for prediction\n",
    "autism.drop('used_app_before',axis=1, inplace=True)\n",
    "\n",
    "#Drop 'age_desc' column - as it only contains one value describing the age range of child subjects\n",
    "autism.drop('age_desc',axis=1, inplace=True)\n",
    "\n",
    "#Drop 'result' column - as its a congregate colum of A1- A10 scores.\n",
    "autism.drop('result',axis=1, inplace=True)\n",
    "\n",
    "#Check columns after dropping\n",
    "autism.columns"
   ],
   "metadata": {
    "collapsed": false,
    "pycharm": {
     "name": "#%%\n"
    }
   }
  },
  {
   "cell_type": "code",
   "execution_count": null,
   "outputs": [],
   "source": [
    "#Bar plot visualization of feature variables' relationship with target variable\n",
    "fig,axarr = plt.subplots(2,3, figsize=(17,10), dpi=300, facecolor='w', edgecolor='k')\n",
    "sns.set(style=\"white\")\n",
    "sns.countplot(x='age', hue = 'Class/ASD',data = autism, ax=axarr[0][0], palette=\"coolwarm\")\n",
    "axarr[0][0].set_title('Distribution of Age')\n",
    "sns.countplot(x='gender', hue = 'Class/ASD',data = autism, ax=axarr[0][1], palette=\"coolwarm\")\n",
    "axarr[0][1].set_title('Distribution of Gender')\n",
    "sns.countplot(x='ethnicity', hue = 'Class/ASD',data = autism,ax=axarr[0][2], palette=\"coolwarm\")\n",
    "axarr[0][2].set_title('Distribution of ethnicity')\n",
    "sns.countplot(x='jaundice', hue = 'Class/ASD',data = autism, ax=axarr[1][0], palette=\"coolwarm\")\n",
    "axarr[1][0].set_title('Distribution of jaundice')\n",
    "sns.countplot(x='autism', hue = 'Class/ASD',data = autism, ax=axarr[1][1], palette=\"coolwarm\")\n",
    "axarr[1][1].set_title('Distribution of autism')\n",
    "sns.countplot(x='country_of_res', hue = 'Class/ASD',data = autism, ax=axarr[1][2], palette=\"coolwarm\")\n",
    "axarr[1][2].set_title('Distribution of country_of_res')\n",
    "fig.suptitle('Distribution of Feature Variables vs Target Variable', fontsize=16);\n",
    "plt.show()"
   ],
   "metadata": {
    "collapsed": false,
    "pycharm": {
     "name": "#%%\n"
    }
   }
  },
  {
   "cell_type": "code",
   "execution_count": null,
   "outputs": [],
   "source": [
    "#Explore whether there are null data\n",
    "autism.isnull().sum()"
   ],
   "metadata": {
    "collapsed": false,
    "pycharm": {
     "name": "#%%\n"
    }
   }
  },
  {
   "cell_type": "code",
   "execution_count": null,
   "outputs": [],
   "source": [
    "#Expore 'Age' entries with null\n",
    "autism[autism['age'].isnull()]"
   ],
   "metadata": {
    "collapsed": false,
    "pycharm": {
     "name": "#%%\n"
    }
   }
  },
  {
   "cell_type": "code",
   "execution_count": null,
   "outputs": [],
   "source": [
    "#Replace the 4 records in 'Age' with null values with '0'\n",
    "autism['age']=autism['age'].fillna(value=0)\n",
    "autism[autism['age'] == 0] #Check"
   ],
   "metadata": {
    "collapsed": false,
    "pycharm": {
     "name": "#%%\n"
    }
   }
  },
  {
   "cell_type": "code",
   "execution_count": null,
   "outputs": [],
   "source": [
    "#Check again for null values to see if we have indeed succeeded.\n",
    "autism.isnull().sum()"
   ],
   "metadata": {
    "collapsed": false,
    "pycharm": {
     "name": "#%%\n"
    }
   }
  },
  {
   "cell_type": "code",
   "execution_count": null,
   "outputs": [],
   "source": [
    "#Convert 'Age' column's datatype from FLOAT to INT.\n",
    "autism['age']=autism['age'].astype('int')\n",
    "#Check it has been converted\n",
    "autism['age'].dtype"
   ],
   "metadata": {
    "collapsed": false,
    "pycharm": {
     "name": "#%%\n"
    }
   }
  },
  {
   "cell_type": "code",
   "execution_count": null,
   "outputs": [],
   "source": [
    "#Convert all 'A()_Score' columns types to INT.\n",
    "def scores(df_name, cols_lst):\n",
    "    for col in cols_lst:\n",
    "        df_name[col] = df_name[col].astype('int')\n",
    "    return df_name\n",
    "\n",
    "scores(autism,['A1_Score','A2_Score','A3_Score','A4_Score','A5_Score','A6_Score','A7_Score','A8_Score','A9_Score','A10_Score'])\n",
    "autism['A10_Score'].dtype #check"
   ],
   "metadata": {
    "collapsed": false,
    "pycharm": {
     "name": "#%%\n"
    }
   }
  },
  {
   "cell_type": "code",
   "execution_count": null,
   "outputs": [],
   "source": [
    "autism['A1_Score'].dtype"
   ],
   "metadata": {
    "collapsed": false,
    "pycharm": {
     "name": "#%%\n"
    }
   }
  },
  {
   "cell_type": "code",
   "execution_count": null,
   "outputs": [],
   "source": [
    "#Convert 'gender' column - Change 'm'(male) to '1', 'f'(female) to '0'\n",
    "autism['gender'].value_counts() #first check 'gender' values\n",
    "autism['gender'] = autism['gender'].map({'m':1,'f':0})\n",
    "autism['gender'].value_counts() #Check 'gender' values after replacement"
   ],
   "metadata": {
    "collapsed": false,
    "pycharm": {
     "name": "#%%\n"
    }
   }
  },
  {
   "cell_type": "code",
   "execution_count": null,
   "outputs": [],
   "source": [
    "#Convert 'jaundice' column - Change 'yes' to '1', 'no' to '0'\n",
    "autism['jaundice'].value_counts() #first check 'jaundice' values\n",
    "autism['jaundice'] = autism['jaundice'].map({'yes':1,'no':0})\n",
    "autism['jaundice'].value_counts() #Check 'jaundice' values after replacement"
   ],
   "metadata": {
    "collapsed": false,
    "pycharm": {
     "name": "#%%\n"
    }
   }
  },
  {
   "cell_type": "code",
   "execution_count": null,
   "outputs": [],
   "source": [
    "#Convert 'Class/ASD' column - Change 'YES' to '1', 'NO' to '0'\n",
    "autism['Class/ASD'].value_counts() #first check 'Class/ASD' values\n",
    "autism['Class/ASD'] = autism['Class/ASD'].map({'YES':1,'NO':0})\n",
    "autism['Class/ASD'].value_counts() #Check 'Class/ASD' values after replacement"
   ],
   "metadata": {
    "collapsed": false,
    "pycharm": {
     "name": "#%%\n"
    }
   }
  },
  {
   "cell_type": "code",
   "execution_count": null,
   "outputs": [],
   "source": [
    "#Convert 'autism' column - Change 'yes' to '1', 'no' to '0'\n",
    "autism['autism'].value_counts() #first check 'autism' values\n",
    "autism['autism'] = autism['autism'].map({'yes':1,'no':0})\n",
    "autism['autism'].value_counts() #Check 'autism' values after replacement"
   ],
   "metadata": {
    "collapsed": false,
    "pycharm": {
     "name": "#%%\n"
    }
   }
  },
  {
   "cell_type": "code",
   "execution_count": null,
   "outputs": [],
   "source": [
    "#Check data types to make sure all necessary conversions has been done.\n",
    "autism.info(verbose=True)"
   ],
   "metadata": {
    "collapsed": false,
    "pycharm": {
     "name": "#%%\n"
    }
   }
  },
  {
   "cell_type": "code",
   "execution_count": null,
   "outputs": [],
   "source": [
    "#Find Nulls recorded as '?'\n",
    "autism.shape\n",
    "autism.isin(['?']).sum()"
   ],
   "metadata": {
    "collapsed": false,
    "pycharm": {
     "name": "#%%\n"
    }
   }
  },
  {
   "cell_type": "code",
   "execution_count": null,
   "outputs": [],
   "source": [
    "# 43 records in 'ethnicity' identified- not suitable to drop, because it 43/292 entries, \n",
    "# dropping will tribute to large data loss. Instead replace '?' with 'unknown' as its own label to be encoded later\n",
    "autism['ethnicity'].replace({\"?\": \"Unknown\"}, inplace=True)"
   ],
   "metadata": {
    "collapsed": false,
    "pycharm": {
     "name": "#%%\n"
    }
   }
  },
  {
   "cell_type": "code",
   "execution_count": null,
   "outputs": [],
   "source": [
    "# Encoding catergorical data to numeric with LabelEncoder\n",
    "le = preprocessing.LabelEncoder()\n",
    "CatCols = ['ethnicity', 'country_of_res']\n",
    "for i in CatCols:\n",
    "    autism[i] = le.fit_transform(autism[i].values)"
   ],
   "metadata": {
    "collapsed": false,
    "pycharm": {
     "name": "#%%\n"
    }
   }
  },
  {
   "cell_type": "code",
   "execution_count": null,
   "outputs": [],
   "source": [
    "autism.head()"
   ],
   "metadata": {
    "collapsed": false,
    "pycharm": {
     "name": "#%%\n"
    }
   }
  },
  {
   "cell_type": "markdown",
   "source": [
    "End of Data pre-processing"
   ],
   "metadata": {
    "collapsed": false
   }
  },
  {
   "cell_type": "markdown",
   "source": [
    "#### Top 5 feature selection"
   ],
   "metadata": {
    "collapsed": false
   }
  },
  {
   "cell_type": "code",
   "execution_count": null,
   "outputs": [],
   "source": [
    "#split dataset\n",
    "X= autism.drop(['Class/ASD'], axis = 1) #feature variables\n",
    "y= autism['Class/ASD']    #target variable"
   ],
   "metadata": {
    "collapsed": false,
    "pycharm": {
     "name": "#%%\n"
    }
   }
  },
  {
   "cell_type": "code",
   "execution_count": null,
   "outputs": [],
   "source": [
    "#Use SelectKBest to identify top 5 best features\n",
    "KBest = SelectKBest(score_func=chi2, k=5)\n",
    "fit = KBest.fit(X,y)\n",
    "scores = pd.DataFrame(fit.scores_)\n",
    "columns = pd.DataFrame(X.columns)\n",
    "\n",
    "#Join results for visualization\n",
    "featureScores = pd.concat([columns,scores],axis=1)\n",
    "featureScores.columns = ['Feature','Score']\n",
    "print(featureScores.nlargest(5,'Score').head(5))"
   ],
   "metadata": {
    "collapsed": false,
    "pycharm": {
     "name": "#%%\n"
    }
   }
  },
  {
   "cell_type": "code",
   "execution_count": null,
   "outputs": [],
   "source": [
    "#Use Correlation Matrix & Heatmap to verify top 5 best features\n",
    "autism_corr= autism.corr()\n",
    "plt.figure(figsize = (20,15))\n",
    "cmap = sns.diverging_palette(240, 10, n=9,as_cmap=True)\n",
    "sns.heatmap(autism_corr,annot=True)\n",
    "plt.title('ASD Dataset Correlation Matrix Heatmap')\n",
    "plt.show()"
   ],
   "metadata": {
    "collapsed": false,
    "pycharm": {
     "name": "#%%\n"
    }
   }
  },
  {
   "cell_type": "code",
   "execution_count": null,
   "outputs": [],
   "source": [
    "#See feature variable correlations with 'Class/ASD' in descending order\n",
    "autism_corr_y =pd.DataFrame(autism_corr['Class/ASD'].drop('Class/ASD'))\n",
    "autism_corr_final=abs(autism_corr_y.sort_values(by='Class/ASD', ascending = False))\n",
    "print(autism_corr_final.nlargest(5,'Class/ASD').head(5))"
   ],
   "metadata": {
    "collapsed": false,
    "pycharm": {
     "name": "#%%\n"
    }
   }
  },
  {
   "cell_type": "code",
   "execution_count": null,
   "outputs": [],
   "source": [
    "from sklearn.feature_selection import RFE\n",
    "from sklearn.linear_model import LogisticRegression\n",
    "\n",
    "#split dataset to perform RFE with logistic regression selection on A_scores only\n",
    "X_rfe= autism.drop(['Class/ASD','age', 'ethnicity','country_of_res','gender','autism'], axis = 1) #feature variables\n",
    "y_rfe= autism['Class/ASD']    #target variable\n",
    "\n",
    "model = LogisticRegression()\n",
    "rfe = RFE(model,n_features_to_select=5)\n",
    "rfe_fit = rfe.fit(X_rfe,y_rfe)\n",
    "print(\"Num Features: %s\" % (rfe_fit.n_features_))\n",
    "print(\"Selected Features: %s\" % (rfe_fit.support_))\n",
    "print(\"Feature Ranking: %s\" % (rfe_fit.ranking_))"
   ],
   "metadata": {
    "collapsed": false,
    "pycharm": {
     "name": "#%%\n"
    }
   }
  },
  {
   "cell_type": "code",
   "execution_count": null,
   "outputs": [],
   "source": [
    "#Join results for visualization\n",
    "scores = pd.DataFrame(rfe_fit.support_)\n",
    "columns = pd.DataFrame(X_rfe.columns)\n",
    "\n",
    "featureScores = pd.concat([columns,scores],axis=1)\n",
    "featureScores.columns = ['Feature','Score']\n",
    "print(featureScores.nlargest(5,'Score').head(5))"
   ],
   "metadata": {
    "collapsed": false,
    "pycharm": {
     "name": "#%%\n"
    }
   }
  },
  {
   "cell_type": "markdown",
   "source": [
    "**Run the Naïve Bayes algorithm with the GaussianNB implementation for the selected features**"
   ],
   "metadata": {
    "collapsed": false
   }
  },
  {
   "cell_type": "code",
   "execution_count": null,
   "outputs": [],
   "source": [
    "#Create Training and Testing data\n",
    "#Set Features (based on best 5 correlations from previous step)\n",
    "X= autism[['A4_Score','A9_Score','A8_Score','A1_Score','A10_Score']]\n",
    "\n",
    "#Set Target\n",
    "y= autism['Class/ASD']\n",
    "\n",
    "#Prepare Training and Testing Data (20% test data)\n",
    "X_train,X_test,y_train,y_test= train_test_split(X,y, test_size=0.2, random_state=42)\n",
    "\n",
    "#No need to apply scaler since data are all 1 and 0\n",
    "\n",
    "#Display Training and Testing Data\n",
    "print('Shape of training feature:', X_train.shape)\n",
    "print('Shape of testing feature:', X_test.shape)\n",
    "print('Shape of training label:', y_train.shape)\n",
    "print('Shape of training label:', y_test.shape)"
   ],
   "metadata": {
    "collapsed": false,
    "pycharm": {
     "name": "#%%\n"
    }
   }
  },
  {
   "cell_type": "code",
   "execution_count": null,
   "outputs": [],
   "source": [
    "X.head()"
   ],
   "metadata": {
    "collapsed": false,
    "pycharm": {
     "name": "#%%\n"
    }
   }
  },
  {
   "cell_type": "code",
   "execution_count": null,
   "outputs": [],
   "source": [
    "#Build GaussianNB Model\n",
    "gnb = GaussianNB() \n",
    "gnb.fit(X_train, np.ravel(y_train,order='C')) \n",
    "predictions = gnb.predict(X_test)"
   ],
   "metadata": {
    "collapsed": false,
    "pycharm": {
     "name": "#%%\n"
    }
   }
  },
  {
   "cell_type": "code",
   "execution_count": null,
   "outputs": [],
   "source": [
    "#Computer 10-fold Cross-Validation Score\n",
    "cv = cross_val_score(gnb,X_test,y_test, cv=10)\n",
    "print(\"Average 10-Fold CV Score - GaussianNB:{}\".format(np.mean(cv)))"
   ],
   "metadata": {
    "collapsed": false,
    "pycharm": {
     "name": "#%%\n"
    }
   }
  },
  {
   "cell_type": "code",
   "execution_count": null,
   "outputs": [],
   "source": [
    "#Compute Accuracy Score\n",
    "from sklearn.metrics import accuracy_score\n",
    "print(\"Accuracy score of Gaussian Naive Bayes Model:\", accuracy_score(y_test, predictions))"
   ],
   "metadata": {
    "collapsed": false,
    "pycharm": {
     "name": "#%%\n"
    }
   }
  },
  {
   "cell_type": "code",
   "execution_count": null,
   "outputs": [],
   "source": [
    "cm = confusion_matrix(y_test, predictions, labels=[0, 1])\n",
    "print(cm)"
   ],
   "metadata": {
    "collapsed": false,
    "pycharm": {
     "name": "#%%\n"
    }
   }
  },
  {
   "cell_type": "code",
   "execution_count": null,
   "outputs": [],
   "source": [
    "plot_confusion_matrix(gnb,X_test,y_test, normalize='all')\n",
    "plt.show()"
   ],
   "metadata": {
    "collapsed": false,
    "pycharm": {
     "name": "#%%\n"
    }
   }
  },
  {
   "cell_type": "code",
   "execution_count": null,
   "outputs": [],
   "source": [
    "#Classification Report\n",
    "report = classification_report(y_test, predictions, target_names=['0', '1'])\n",
    "print(report)"
   ],
   "metadata": {
    "collapsed": false,
    "pycharm": {
     "name": "#%%\n"
    }
   }
  },
  {
   "cell_type": "code",
   "execution_count": null,
   "outputs": [],
   "source": [
    "#Run Decision Tree Classifer\n",
    "#Use original data before feature selection\n",
    "autism.head()\n",
    "\n",
    "#Set Features\n",
    "Xtree= autism.drop(['Class/ASD'],axis=1) \n",
    "#Set Target\n",
    "ytree= autism['Class/ASD']\n",
    "\n",
    "#Prepare Training and Testing Data (20% test data)\n",
    "X_train,X_test,y_train,y_test= train_test_split(Xtree,ytree, test_size=0.2, random_state=42)\n"
   ],
   "metadata": {
    "collapsed": false,
    "pycharm": {
     "name": "#%%\n"
    }
   }
  },
  {
   "cell_type": "code",
   "execution_count": null,
   "outputs": [],
   "source": [
    "#Create and fit Decision Tree Classifier to data before feature selection\n",
    "tree= DecisionTreeClassifier()\n",
    "tree = tree.fit(X_train, y_train)\n",
    "predictions= tree.predict(X_test)"
   ],
   "metadata": {
    "collapsed": false,
    "pycharm": {
     "name": "#%%\n"
    }
   }
  },
  {
   "cell_type": "code",
   "execution_count": null,
   "outputs": [],
   "source": [
    "#Plot Decision Tree Feature Importance\n",
    "Feature_Importance=pd.Series(tree.feature_importances_,index=Xtree.columns)\n",
    "Feature_Importance.sort_values(ascending=False, inplace=True)\n",
    "Feature_Importance.plot.bar()\n",
    "plt.title(\"Decision Tree Feature Importance by Rank\")\n",
    "plt.show()"
   ],
   "metadata": {
    "collapsed": false,
    "pycharm": {
     "name": "#%%\n"
    }
   }
  }
 ],
 "metadata": {
  "kernelspec": {
   "display_name": "Python 3",
   "language": "python",
   "name": "python3"
  },
  "language_info": {
   "codemirror_mode": {
    "name": "ipython",
    "version": 3
   },
   "file_extension": ".py",
   "mimetype": "text/x-python",
   "name": "python",
   "nbconvert_exporter": "python",
   "pygments_lexer": "ipython3",
   "version": "3.8.8"
  }
 },
 "nbformat": 4,
 "nbformat_minor": 5
}